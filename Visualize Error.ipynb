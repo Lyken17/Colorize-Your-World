{
 "cells": [
  {
   "cell_type": "code",
   "execution_count": 7,
   "metadata": {
    "collapsed": true
   },
   "outputs": [],
   "source": [
    "import json\n",
    "import matplotlib.pyplot as plt\n",
    "%matplotlib inline"
   ]
  },
  {
   "cell_type": "code",
   "execution_count": 8,
   "metadata": {
    "collapsed": false
   },
   "outputs": [],
   "source": [
    "with open('checkpoint.json') as fp:\n",
    "    log_txt = json.load(fp)"
   ]
  },
  {
   "cell_type": "code",
   "execution_count": 9,
   "metadata": {
    "collapsed": false,
    "scrolled": true
   },
   "outputs": [
    {
     "data": {
      "text/plain": [
       "[1000,\n",
       " 2000,\n",
       " 3000,\n",
       " 4000,\n",
       " 5000,\n",
       " 6000,\n",
       " 7000,\n",
       " 8000,\n",
       " 9000,\n",
       " 10000,\n",
       " 11000,\n",
       " 12000,\n",
       " 13000,\n",
       " 14000,\n",
       " 15000,\n",
       " 16000,\n",
       " 17000,\n",
       " 18000,\n",
       " 19000,\n",
       " 20000,\n",
       " 21000,\n",
       " 22000,\n",
       " 23000,\n",
       " 24000,\n",
       " 25000,\n",
       " 26000,\n",
       " 27000,\n",
       " 28000,\n",
       " 29000,\n",
       " 30000,\n",
       " 31000,\n",
       " 32000,\n",
       " 33000,\n",
       " 34000,\n",
       " 35000,\n",
       " 36000,\n",
       " 37000,\n",
       " 38000,\n",
       " 39000,\n",
       " 40000,\n",
       " 41000,\n",
       " 42000,\n",
       " 43000,\n",
       " 44000,\n",
       " 45000,\n",
       " 46000,\n",
       " 47000,\n",
       " 48000,\n",
       " 49000,\n",
       " 50000,\n",
       " 51000,\n",
       " 52000,\n",
       " 53000,\n",
       " 54000,\n",
       " 55000,\n",
       " 56000,\n",
       " 57000,\n",
       " 58000,\n",
       " 59000,\n",
       " 60000,\n",
       " 61000]"
      ]
     },
     "execution_count": 9,
     "metadata": {},
     "output_type": "execute_result"
    }
   ],
   "source": [
    "log_txt['val_loss_history_ts']"
   ]
  },
  {
   "cell_type": "code",
   "execution_count": 10,
   "metadata": {
    "collapsed": false,
    "scrolled": true
   },
   "outputs": [
    {
     "data": {
      "text/plain": [
       "[0.01677474770695,\n",
       " 0.016212002653629,\n",
       " 0.016022141464055,\n",
       " 0.015976183209568,\n",
       " 0.015773165598512,\n",
       " 0.015689199697226,\n",
       " 0.015620820503682,\n",
       " 0.015576907526702,\n",
       " 0.015514052473009,\n",
       " 0.015381241869181,\n",
       " 0.015168401412666,\n",
       " 0.01518794875592,\n",
       " 0.01513456730172,\n",
       " 0.015034067817032,\n",
       " 0.015000934153795,\n",
       " 0.014888666663319,\n",
       " 0.014808943215758,\n",
       " 0.014745366480201,\n",
       " 0.01475978596136,\n",
       " 0.014670337922871,\n",
       " 0.01469636335969,\n",
       " 0.014627917017788,\n",
       " 0.014592577889562,\n",
       " 0.014550964254886,\n",
       " 0.014589808322489,\n",
       " 0.014549746643752,\n",
       " 0.014535930752754,\n",
       " 0.014558303356171,\n",
       " 0.014578466117382,\n",
       " 0.014531912375242,\n",
       " 0.014545855391771,\n",
       " 0.014598098956048,\n",
       " 0.014481151103973,\n",
       " 0.014505398087204,\n",
       " 0.014579893276095,\n",
       " 0.014528998080641,\n",
       " 0.014520661719143,\n",
       " 0.014513662178069,\n",
       " 0.014539743866771,\n",
       " 0.014542347285897,\n",
       " 0.014560672175139,\n",
       " 0.014550604950637,\n",
       " 0.014555367827415,\n",
       " 0.014531107712537,\n",
       " 0.014568884205073,\n",
       " 0.0145513035357,\n",
       " 0.014505740720779,\n",
       " 0.014522510115057,\n",
       " 0.014588816929609,\n",
       " 0.014575131144375,\n",
       " 0.014532936085016,\n",
       " 0.014576225727797,\n",
       " 0.014558186009526,\n",
       " 0.014513935148716,\n",
       " 0.014542481023818,\n",
       " 0.014557207282633,\n",
       " 0.014708644058555,\n",
       " 0.014679841138422,\n",
       " 0.014714885968715,\n",
       " 0.014695503376424,\n",
       " 0.014608867932111]"
      ]
     },
     "execution_count": 10,
     "metadata": {},
     "output_type": "execute_result"
    }
   ],
   "source": [
    "log_txt['val_loss_history']"
   ]
  },
  {
   "cell_type": "code",
   "execution_count": 11,
   "metadata": {
    "collapsed": false
   },
   "outputs": [
    {
     "data": {
      "text/plain": [
       "[<matplotlib.lines.Line2D at 0x7fd676206650>]"
      ]
     },
     "execution_count": 11,
     "metadata": {},
     "output_type": "execute_result"
    },
    {
     "data": {
      "image/png": "[encoded data removed]",
      "text/plain": [
       "<matplotlib.figure.Figure at 0x7fd6761ccf10>"
      ]
     },
     "metadata": {},
     "output_type": "display_data"
    }
   ],
   "source": [
    "plt.gca().set_color_cycle(['red', 'blue'])\n",
    "\n",
    "# plt.plot(log_txt['train_loss_history'])\n",
    "plt.plot(log_txt['val_loss_history_ts'] ,log_txt['val_loss_history'])"
   ]
  },
  {
   "cell_type": "code",
   "execution_count": null,
   "metadata": {
    "collapsed": false
   },
   "outputs": [],
   "source": []
  },
  {
   "cell_type": "code",
   "execution_count": null,
   "metadata": {
    "collapsed": true
   },
   "outputs": [],
   "source": []
  }
 ],
 "metadata": {
  "kernelspec": {
   "display_name": "Python 2",
   "language": "python",
   "name": "python2"
  },
  "language_info": {
   "codemirror_mode": {
    "name": "ipython",
    "version": 2
   },
   "file_extension": ".py",
   "mimetype": "text/x-python",
   "name": "python",
   "nbconvert_exporter": "python",
   "pygments_lexer": "ipython2",
   "version": "2.7.6"
  }
 },
 "nbformat": 4,
 "nbformat_minor": 0
}
