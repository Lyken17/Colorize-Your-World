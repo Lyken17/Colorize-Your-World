{
 "cells": [
  {
   "cell_type": "code",
   "execution_count": 1,
   "metadata": {
    "collapsed": true
   },
   "outputs": [],
   "source": [
    "require 'torch'\n",
    "require 'optim'\n",
    "require 'image'\n",
    "\n",
    "require 'optnet'\n",
    "require 'cutorch'\n",
    "require 'cudnn'\n",
    "require 'cunn'\n",
    "\n",
    "require 'DataLoader'\n",
    "utils = require 'utils'\n"
   ]
  },
  {
   "cell_type": "code",
   "execution_count": 2,
   "metadata": {
    "collapsed": false
   },
   "outputs": [],
   "source": [
    "sig_model = require 'tune_model'\n",
    "cmd = torch.CmdLine()"
   ]
  },
  {
   "cell_type": "code",
   "execution_count": 4,
   "metadata": {
    "collapsed": true
   },
   "outputs": [],
   "source": [
    "-- Generic options\n",
    "cmd:option('-arch', 'c9s1-32,d64,d128,R128,R128,R128,R128,R128,u64,u32,c9s1-2')\n",
    "cmd:option('-h5_file', '../colorize_jhonson/ms-coco-256.h5')\n",
    "cmd:option('-resume_from_checkpoint', '')\n",
    "cmd:option('-fine_tune', 'colornet.t7')\n",
    "\n",
    "\n",
    "-- Upsampling options\n",
    "cmd:option('-upsample_factor', 4)\n",
    "\n",
    "-- Optimization\n",
    "cmd:option('-num_iterations', 200000)\n",
    "cmd:option('-max_train', -1)\n",
    "cmd:option('-batch_size', 64)\n",
    "cmd:option('-learning_rate', 1e-4)\n",
    "cmd:option('-lr_decay_every', -1)\n",
    "cmd:option('-lr_decay_factor', 0.5)\n",
    "cmd:option('-weight_decay', 0)\n",
    "\n",
    "\n",
    "-- Checkpointing\n",
    "cmd:option('-checkpoint_name', 'checkpoint')\n",
    "cmd:option('-checkpoint_every', 1000)\n",
    "cmd:option('-num_val_batches', 10)\n",
    "\n",
    "-- Backend options\n",
    "cmd:option('-gpu', 0)\n",
    "cmd:option('-use_cudnn', 1)\n",
    "cmd:option('-backend', 'cuda', 'cuda|opencl')\n",
    "opt = cmd:parse(arg or {})"
   ]
  },
  {
   "cell_type": "code",
   "execution_count": 5,
   "metadata": {
    "collapsed": true
   },
   "outputs": [],
   "source": [
    "net = sig_model:build_model(opt)"
   ]
  },
  {
   "cell_type": "code",
   "execution_count": 6,
   "metadata": {
    "collapsed": false
   },
   "outputs": [
    {
     "data": {
      "text/plain": [
       "\n"
      ]
     },
     "execution_count": 6,
     "metadata": {},
     "output_type": "execute_result"
    }
   ],
   "source": [
    "graph.dot(net.fg, 'temp', 'temp')"
   ]
  },
  {
   "cell_type": "code",
   "execution_count": null,
   "metadata": {
    "collapsed": true
   },
   "outputs": [],
   "source": [
    "x1 = torch.rand(1, 1, 256, 256)\n",
    "x2 = torch.rand(1, 1, 224, 224)\n",
    "data_in = {x1, x2}"
   ]
  }
 ],
 "metadata": {
  "kernelspec": {
   "display_name": "iTorch",
   "language": "lua",
   "name": "itorch"
  },
  "language_info": {
   "name": "lua",
   "version": "5.1"
  }
 },
 "nbformat": 4,
 "nbformat_minor": 0
}
